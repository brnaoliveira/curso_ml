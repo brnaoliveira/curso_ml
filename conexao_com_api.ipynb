{
 "cells": [
  {
   "cell_type": "code",
   "execution_count": 1,
   "id": "69807de2",
   "metadata": {},
   "outputs": [],
   "source": [
    "# Sistema de conexão com a API"
   ]
  },
  {
   "cell_type": "code",
   "execution_count": 5,
   "id": "fe95d7ea",
   "metadata": {},
   "outputs": [
    {
     "data": {
      "text/plain": [
       "{'valor_aluguel': '[3721.41378307]'}"
      ]
     },
     "execution_count": 5,
     "metadata": {},
     "output_type": "execute_result"
    }
   ],
   "source": [
    "# Biblioteca para fazer conexões\n",
    "import requests\n",
    "\n",
    "# Local da URL\n",
    "\n",
    "url = 'http://127.0.0.1:5000/API_Preditivo/70;3;2;5;14;0;0;1700;275'\n",
    "\n",
    "# Acessar conexão\n",
    "consulta = requests.get(url)\n",
    "\n",
    "# Buscar a info\n",
    "resposta = consulta.json()\n",
    "\n",
    "# Devolução\n",
    "resposta"
   ]
  }
 ],
 "metadata": {
  "kernelspec": {
   "display_name": "Python 3 (ipykernel)",
   "language": "python",
   "name": "python3"
  },
  "language_info": {
   "codemirror_mode": {
    "name": "ipython",
    "version": 3
   },
   "file_extension": ".py",
   "mimetype": "text/x-python",
   "name": "python",
   "nbconvert_exporter": "python",
   "pygments_lexer": "ipython3",
   "version": "3.9.13"
  },
  "vscode": {
   "interpreter": {
    "hash": "1e83724be103882f1aed4f20c39d130649547f368f54b03a2e648957e0dba14a"
   }
  }
 },
 "nbformat": 4,
 "nbformat_minor": 5
}
