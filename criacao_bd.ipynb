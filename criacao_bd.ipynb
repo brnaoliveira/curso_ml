{
 "cells": [
  {
   "cell_type": "code",
   "execution_count": 1,
   "metadata": {},
   "outputs": [],
   "source": [
    "# Lib para banco de dados\n",
    "import sqlite3"
   ]
  },
  {
   "cell_type": "code",
   "execution_count": 2,
   "metadata": {},
   "outputs": [],
   "source": [
    "# Criar o banco ( se não tiver banco, ele cria; se já tiver banco, ele só se conecta)\n",
    "conexao_banco = sqlite3.connect('bd_api.db')"
   ]
  },
  {
   "cell_type": "code",
   "execution_count": 3,
   "metadata": {},
   "outputs": [],
   "source": [
    "# Apontar para o banco\n",
    "cursor = conexao_banco.cursor()"
   ]
  },
  {
   "cell_type": "code",
   "execution_count": 5,
   "metadata": {},
   "outputs": [
    {
     "data": {
      "text/plain": [
       "<sqlite3.Cursor at 0x1dc3e6f9a40>"
      ]
     },
     "execution_count": 5,
     "metadata": {},
     "output_type": "execute_result"
    }
   ],
   "source": [
    "# Query --> criar uma tabela \n",
    "\n",
    "query_criacao = '''\n",
    "    CREATE TABLE log_api(\n",
    "        id INTEGER NOT NULL PRIMARY KEY AUTOINCREMENT,\n",
    "        inputs TEXT, \n",
    "        inicio TEXT,\n",
    "        fim TEXT,\n",
    "        processamento TEXT  \n",
    "    )\n",
    "\n",
    "'''\n",
    "\n",
    "# Executando a query\n",
    "cursor.execute(query_criacao)"
   ]
  },
  {
   "cell_type": "code",
   "execution_count": null,
   "metadata": {},
   "outputs": [],
   "source": [
    "# # QUERY --> Inserir informação\n",
    "\n",
    "# query_inserir = '''\n",
    "#     INSERT INTO log_api(inputs, inicio, fim, processamento)\n",
    "#     VALUES('')\n",
    "# ''' \n",
    "\n",
    "# # Executando a query\n",
    "# cursor.execute(query_inserir)\n",
    "\n",
    "# # Commit\n",
    "# conexao_banco.commit()"
   ]
  },
  {
   "cell_type": "code",
   "execution_count": 6,
   "metadata": {},
   "outputs": [
    {
     "data": {
      "text/plain": [
       "[]"
      ]
     },
     "execution_count": 6,
     "metadata": {},
     "output_type": "execute_result"
    }
   ],
   "source": [
    "# Query --> consulta\n",
    "\n",
    "query_consulta = '''\n",
    "    SELECT * FROM log_api;\n",
    "'''\n",
    "\n",
    "# Executando a query\n",
    "cursor.execute(query_consulta).fetchall()"
   ]
  },
  {
   "cell_type": "code",
   "execution_count": null,
   "metadata": {},
   "outputs": [],
   "source": []
  }
 ],
 "metadata": {
  "kernelspec": {
   "display_name": "Python 3 (ipykernel)",
   "language": "python",
   "name": "python3"
  },
  "language_info": {
   "codemirror_mode": {
    "name": "ipython",
    "version": 3
   },
   "file_extension": ".py",
   "mimetype": "text/x-python",
   "name": "python",
   "nbconvert_exporter": "python",
   "pygments_lexer": "ipython3",
   "version": "3.9.13"
  },
  "vscode": {
   "interpreter": {
    "hash": "1e83724be103882f1aed4f20c39d130649547f368f54b03a2e648957e0dba14a"
   }
  }
 },
 "nbformat": 4,
 "nbformat_minor": 2
}
